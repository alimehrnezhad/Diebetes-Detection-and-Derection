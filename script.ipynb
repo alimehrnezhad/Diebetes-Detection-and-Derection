{
 "cells": [
  {
   "cell_type": "code",
   "execution_count": 48,
   "metadata": {},
   "outputs": [
    {
     "name": "stdout",
     "output_type": "stream",
     "text": [
      " * Serving Flask app \"__main__\" (lazy loading)\n",
      " * Environment: production\n",
      "   WARNING: This is a development server. Do not use it in a production deployment.\n",
      "   Use a production WSGI server instead.\n",
      " * Debug mode: on\n"
     ]
    },
    {
     "name": "stderr",
     "output_type": "stream",
     "text": [
      " * Running on http://127.0.0.1:5000/ (Press CTRL+C to quit)\n",
      " * Restarting with fsevents reloader\n"
     ]
    },
    {
     "ename": "SystemExit",
     "evalue": "1",
     "output_type": "error",
     "traceback": [
      "An exception has occurred, use %tb to see the full traceback.\n",
      "\u001b[0;31mSystemExit\u001b[0m\u001b[0;31m:\u001b[0m 1\n"
     ]
    }
   ],
   "source": [
    "# #importing libraries\n",
    "# from flask import Flask, render_template, request\n",
    "# from flask import Flask\n",
    "# #from get_letters import get_letters\n",
    "\n",
    "# script = Flask(__name__)\n",
    "# @script.route('/', methods=['GET', 'POST'])\n",
    "# def index():\n",
    "#     errors = []\n",
    "#     letters = []\n",
    "#     if request.method == \"POST\":\n",
    "#         # get url that the user has entered\n",
    "#         try:\n",
    "#             word = request.form['word']\n",
    "#             #letters = get_letters(word)\n",
    "#         except:\n",
    "#             errors.append(\n",
    "#                 \"Unable to get URL. Please make sure it's valid and try again.\"\n",
    "#             )\n",
    "#     return render_template('index.html', letters=letters, errors=errors)\n",
    "\n",
    "# # if __name__ == '__main__':\n",
    "# #     script.run()\n",
    "# app.run(debug = True)\n"
   ]
  },
  {
   "cell_type": "code",
   "execution_count": 45,
   "metadata": {},
   "outputs": [
    {
     "name": "stdout",
     "output_type": "stream",
     "text": [
      " * Serving Flask app \"__main__\" (lazy loading)\n",
      " * Environment: production\n",
      "   WARNING: This is a development server. Do not use it in a production deployment.\n",
      "   Use a production WSGI server instead.\n",
      " * Debug mode: on\n"
     ]
    },
    {
     "name": "stderr",
     "output_type": "stream",
     "text": [
      " * Running on http://127.0.0.1:5000/ (Press CTRL+C to quit)\n",
      " * Restarting with fsevents reloader\n"
     ]
    },
    {
     "ename": "SystemExit",
     "evalue": "1",
     "output_type": "error",
     "traceback": [
      "An exception has occurred, use %tb to see the full traceback.\n",
      "\u001b[0;31mSystemExit\u001b[0m\u001b[0;31m:\u001b[0m 1\n"
     ]
    }
   ],
   "source": [
    "# import os\n",
    "# import numpy as np\n",
    "# import flask\n",
    "# import pickle\n",
    "# from flask import Flask, render_template, request\n",
    "\n",
    "# #creating instance of the class\n",
    "# app=Flask(__name__)\n",
    "\n",
    "# #to tell flask what url shoud trigger the function index()\n",
    "# @app.route('/')\n",
    "# @app.route('/index')\n",
    "# def index():\n",
    "#     return flask.render_template('index.html')\n",
    "\n",
    "# app.run(debug = True)"
   ]
  },
  {
   "cell_type": "code",
   "execution_count": 50,
   "metadata": {},
   "outputs": [],
   "source": [
    "from flask import Flask, render_template, request\n",
    "app=Flask(__name__)\n",
    "@app.route('/')\n",
    "def hello():\n",
    "    return \"Hello World!\""
   ]
  },
  {
   "cell_type": "code",
   "execution_count": null,
   "metadata": {},
   "outputs": [],
   "source": []
  },
  {
   "cell_type": "code",
   "execution_count": null,
   "metadata": {},
   "outputs": [],
   "source": []
  }
 ],
 "metadata": {
  "kernelspec": {
   "display_name": "Python 3",
   "language": "python",
   "name": "python3"
  },
  "language_info": {
   "codemirror_mode": {
    "name": "ipython",
    "version": 3
   },
   "file_extension": ".py",
   "mimetype": "text/x-python",
   "name": "python",
   "nbconvert_exporter": "python",
   "pygments_lexer": "ipython3",
   "version": "3.7.4"
  }
 },
 "nbformat": 4,
 "nbformat_minor": 2
}
